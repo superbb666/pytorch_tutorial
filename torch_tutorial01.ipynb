{
 "cells": [
  {
   "cell_type": "code",
   "execution_count": 1,
   "metadata": {},
   "outputs": [],
   "source": [
    "\"\"\"\n",
    "使用二层神经网络及numpy，解决一个二分类问题：sum(2x+1) > 25的为1，<=25 为 0\n",
    "\"\"\"\n",
    "import numpy as np"
   ]
  },
  {
   "cell_type": "code",
   "execution_count": 2,
   "metadata": {},
   "outputs": [],
   "source": [
    "# 训练集和验证集，四组数据，三维向量\n",
    "x_train, y_train, x_valid, y_valid = [[1.0,2,3], [2,3,4], [3,4,5], [4,5,6]], [0, 0, 1, 1], [[7.0,9,8], [0,0,0]], [1, 0]\n",
    "# 改变格式\n",
    "x_train, y_train, x_valid, y_valid = map(\n",
    "    np.array, (x_train, y_train, x_valid, y_valid)  )\n",
    "# 构造权重和偏置，全连接层，三维降到二维\n",
    "weights = np.ones((3,2))\n",
    "bias = np.zeros(2)"
   ]
  },
  {
   "cell_type": "code",
   "execution_count": 3,
   "metadata": {},
   "outputs": [],
   "source": [
    "# 构造模型及激活函数softmax，加log原因是后面的交叉熵的计算用到了log，在这里能简化计算\n",
    "def log_softmax(x):\n",
    "    return x - np.log(np.exp(x).sum(-1)).reshape(-1,1)\n",
    "    # return np.exp(x) / np.exp(x).sum(-1).reshape(-1,1)  # 不加log\n",
    "def model(xb):\n",
    "    return log_softmax(xb @ weights + bias)  # @表示点乘\n",
    "# 观察结果\n",
    "# bs = 2  # batch size\n",
    "# xb = x_train[0:bs]  # a mini-batch from x\n",
    "# preds = model(xb)  # predictions\n",
    "# print('preds=', preds, preds.shape)\n",
    "# 损失函数，交叉熵\n",
    "def loss_func(input, target):\n",
    "    return -input[range(target.shape[0]), target].mean()\n",
    "    # return -np.log(input[range(target.shape[0]), target]).mean() # 激活函数不使用log\n",
    "# 观察结果\n",
    "# yb = y_train[0:bs]\n",
    "# print('loss_func=', loss_func(preds, yb))\n",
    "# 准确率\n",
    "def accuracy(out, yb):\n",
    "    preds = np.argmax(out, axis=1)\n",
    "    return ((preds == yb)*1.0).mean()\n",
    "# print('accuracy=', accuracy(preds, yb))\n",
    "# 反向传播\n",
    "def backpropagation(input_x, output_z, target):   \n",
    "    flag_dz = np.zeros_like(output_z)\n",
    "    for i in range(len(target)): flag_dz[i][target[i]]=1 \n",
    "    dl_dy = np.exp(output_z) - flag_dz\n",
    "    dy_dw = input_x\n",
    "    weights_grad = np.zeros_like(weights)\n",
    "    bias_grad = np.zeros_like(bias)\n",
    "    for i in range(dl_dy.shape[0]):\n",
    "        weights_grad += (dl_dy[i].reshape(-1,1) @ dy_dw[i].reshape(1,-1)).T\n",
    "        bias_grad += dl_dy[i] * 1.0\n",
    "    weights_grad = weights_grad / dy_dw.shape[0]\n",
    "    bias_grad = bias_grad / dy_dw.shape[0]\n",
    "    return weights_grad, bias_grad"
   ]
  },
  {
   "cell_type": "code",
   "execution_count": 4,
   "metadata": {},
   "outputs": [
    {
     "name": "stdout",
     "output_type": "stream",
     "text": [
      "epoch= 0 batchnum= 0 loss= 0.6931471805599454 \n",
      "weights=\n",
      " [[1. 1.]\n",
      " [1. 1.]\n",
      " [1. 1.]]\n",
      "epoch= 0 batchnum= 1 loss= 18.37500003493063 \n",
      "weights=\n",
      " [[1.375 0.625]\n",
      " [1.625 0.375]\n",
      " [1.875 0.125]]\n",
      "epoch= 1 batchnum= 0 loss= 25.87499884164878 \n",
      "weights=\n",
      " [[-0.37499995  2.37499995]\n",
      " [-0.62499993  2.62499993]\n",
      " [-0.87499991  2.87499991]]\n",
      "epoch= 1 batchnum= 1 loss= 0.00030561277634699735 \n",
      "weights=\n",
      " [[0.37500005 1.62499995]\n",
      " [0.62500007 1.37499993]\n",
      " [0.87500009 1.12499991]]\n",
      "loss= -3.0 accuracy= 1.0 \n",
      "weights=\n",
      " [[0.37452718 1.62547282]\n",
      " [0.62437443 1.37562557]\n",
      " [0.87422168 1.12577832]] \n",
      "bias= [ 0.24984725 -0.24984725]\n"
     ]
    }
   ],
   "source": [
    "# 多次迭代\n",
    "lr = 0.5  # learning rate\n",
    "epochs = 2  # how many epochs to train for\n",
    "bs = 2  # batch size\n",
    "for epoch in range(epochs):\n",
    "    for i in range((x_train.shape[0] - 1) // bs + 1):\n",
    "        start_i = i * bs\n",
    "        end_i = start_i + bs\n",
    "        xb = x_train[start_i:end_i]\n",
    "        yb = y_train[start_i:end_i]\n",
    "        pred = model(xb)\n",
    "        loss = loss_func(pred, yb)\n",
    "\n",
    "        weights_grad = np.zeros_like(weights)\n",
    "        bias_grad = np.zeros_like(bias)        \n",
    "        weights_grad, bias_grad = backpropagation(xb, pred, yb)\n",
    "        print('epoch=', epoch, 'batchnum=', i, 'loss=', loss, '\\nweights=\\n', weights)\n",
    "    \n",
    "        weights -= weights_grad * lr\n",
    "        bias -= bias_grad * lr\n",
    "\n",
    "print('loss=', loss_func(x_train, y_train), 'accuracy=', accuracy(x_valid, y_valid), '\\nweights=\\n', weights, '\\nbias=', bias)\n"
   ]
  },
  {
   "cell_type": "code",
   "execution_count": null,
   "metadata": {},
   "outputs": [],
   "source": []
  }
 ],
 "metadata": {
  "kernelspec": {
   "display_name": "Python 3",
   "language": "python",
   "name": "python3"
  },
  "language_info": {
   "codemirror_mode": {
    "name": "ipython",
    "version": 3
   },
   "file_extension": ".py",
   "mimetype": "text/x-python",
   "name": "python",
   "nbconvert_exporter": "python",
   "pygments_lexer": "ipython3",
   "version": "3.8.5"
  }
 },
 "nbformat": 4,
 "nbformat_minor": 4
}
