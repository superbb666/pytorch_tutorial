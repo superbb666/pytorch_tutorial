{
 "cells": [
  {
   "cell_type": "code",
   "execution_count": 1,
   "metadata": {},
   "outputs": [],
   "source": [
    "\"\"\"\n",
    "使用torch实现二分类的功能Step1：仅将numpy改为torch，并优化损失函数、添加重构\n",
    "\"\"\"\n",
    "import torch\n",
    "import torch.nn.functional as F\n",
    "from torch import nn"
   ]
  },
  {
   "cell_type": "code",
   "execution_count": 2,
   "metadata": {},
   "outputs": [],
   "source": [
    "# 训练集和验证集，四组数据，三维向量\n",
    "x_train, y_train, x_valid, y_valid = [[1.0,2,3], [2,3,4], [3,4,5], [4,5,6]], [0, 0, 1, 1], [[7.0,9,8], [0,0,0]], [1, 0]\n",
    "# 改变格式\n",
    "x_train, y_train, x_valid, y_valid = map(\n",
    "    torch.tensor, (x_train, y_train, x_valid, y_valid)  )\n",
    "# 重构\n",
    "class Mnist_Logistic(nn.Module):\n",
    "    def __init__(self):\n",
    "        super().__init__()\n",
    "        self.weights = nn.Parameter(torch.ones((3,2)))\n",
    "        self.bias = nn.Parameter(torch.zeros(2))\n",
    "\n",
    "    def forward(self, xb):\n",
    "        return xb @ self.weights + self.bias"
   ]
  },
  {
   "cell_type": "code",
   "execution_count": 3,
   "metadata": {},
   "outputs": [],
   "source": [
    "# 实例化模型\n",
    "model = Mnist_Logistic()\n",
    "# 损失函数，交叉熵\n",
    "loss_func = F.cross_entropy\n",
    "# 准确率\n",
    "def accuracy(out, yb):\n",
    "    preds = torch.argmax(out, dim=1)\n",
    "    return (preds == yb).float().mean()\n",
    "# 观察结果\n",
    "# bs = 2  # batch size\n",
    "# xb = x_train[0:bs]  # a mini-batch from x\n",
    "# yb = y_train[0:bs]\n",
    "# print(loss_func(model(xb), yb), accuracy(model(xb), yb))"
   ]
  },
  {
   "cell_type": "code",
   "execution_count": 4,
   "metadata": {},
   "outputs": [
    {
     "name": "stdout",
     "output_type": "stream",
     "text": [
      "epoch= 0 batchnum= 0 loss= tensor(0.6931, grad_fn=<NllLossBackward>) \n",
      "weights=\n",
      " Parameter containing:\n",
      "tensor([[1., 1.],\n",
      "        [1., 1.],\n",
      "        [1., 1.]], requires_grad=True)\n",
      "epoch= 0 batchnum= 1 loss= tensor(18.3750, grad_fn=<NllLossBackward>) \n",
      "weights=\n",
      " Parameter containing:\n",
      "tensor([[1.3750, 0.6250],\n",
      "        [1.6250, 0.3750],\n",
      "        [1.8750, 0.1250]], requires_grad=True)\n",
      "epoch= 1 batchnum= 0 loss= tensor(25.8750, grad_fn=<NllLossBackward>) \n",
      "weights=\n",
      " Parameter containing:\n",
      "tensor([[-0.3750,  2.3750],\n",
      "        [-0.6250,  2.6250],\n",
      "        [-0.8750,  2.8750]], requires_grad=True)\n",
      "epoch= 1 batchnum= 1 loss= tensor(0.0003, grad_fn=<NllLossBackward>) \n",
      "weights=\n",
      " Parameter containing:\n",
      "tensor([[0.3750, 1.6250],\n",
      "        [0.6250, 1.3750],\n",
      "        [0.8750, 1.1250]], requires_grad=True)\n",
      "loss= tensor(2.0811, grad_fn=<NllLossBackward>) accuracy= tensor(1.) \n",
      "weights=\n",
      " Parameter containing:\n",
      "tensor([[0.3745, 1.6255],\n",
      "        [0.6244, 1.3756],\n",
      "        [0.8742, 1.1258]], requires_grad=True) \n",
      "bias= Parameter containing:\n",
      "tensor([ 0.2498, -0.2498], requires_grad=True)\n"
     ]
    },
    {
     "name": "stderr",
     "output_type": "stream",
     "text": [
      "/home/t-wanjunwang/.local/lib/python3.8/site-packages/torch/autograd/__init__.py:130: UserWarning: CUDA initialization: Found no NVIDIA driver on your system. Please check that you have an NVIDIA GPU and installed a driver from http://www.nvidia.com/Download/index.aspx (Triggered internally at  /pytorch/c10/cuda/CUDAFunctions.cpp:100.)\n",
      "  Variable._execution_engine.run_backward(\n"
     ]
    }
   ],
   "source": [
    "# 多次迭代\n",
    "lr = 0.5  # learning rate\n",
    "epochs = 2  # how many epochs to train for\n",
    "bs = 2  # batch size\n",
    "for epoch in range(epochs):\n",
    "    for i in range((x_train.shape[0] - 1) // bs + 1):\n",
    "        start_i = i * bs\n",
    "        end_i = start_i + bs\n",
    "        xb = x_train[start_i:end_i]\n",
    "        yb = y_train[start_i:end_i]\n",
    "        pred = model(xb)\n",
    "        loss = loss_func(pred, yb)\n",
    "\n",
    "        print('epoch=', epoch, 'batchnum=', i, 'loss=', loss, '\\nweights=\\n', model.weights)\n",
    "\n",
    "        loss.backward()\n",
    "        with torch.no_grad():\n",
    "            for p in model.parameters():\n",
    "                p -= p.grad * lr\n",
    "            model.zero_grad()\n",
    "\n",
    "print('loss=', loss_func(model(x_train), y_train), 'accuracy=', accuracy(model(x_valid), y_valid), '\\nweights=\\n', model.weights, '\\nbias=', model.bias)\n"
   ]
  },
  {
   "cell_type": "code",
   "execution_count": null,
   "metadata": {},
   "outputs": [],
   "source": []
  }
 ],
 "metadata": {
  "kernelspec": {
   "display_name": "Python 3",
   "language": "python",
   "name": "python3"
  },
  "language_info": {
   "codemirror_mode": {
    "name": "ipython",
    "version": 3
   },
   "file_extension": ".py",
   "mimetype": "text/x-python",
   "name": "python",
   "nbconvert_exporter": "python",
   "pygments_lexer": "ipython3",
   "version": "3.8.5"
  }
 },
 "nbformat": 4,
 "nbformat_minor": 4
}
